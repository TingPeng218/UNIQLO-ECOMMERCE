{
 "cells": [
  {
   "cell_type": "code",
   "execution_count": 242,
   "id": "bb5a9cca",
   "metadata": {},
   "outputs": [],
   "source": [
    "# Ting PENG / Julie Stela\n",
    "# PROBLEMATIQUE /  How much of UNIQLO's weekly revenue is coming from E-commerce ?\n",
    "\n",
    "# UNIQLO is a trading brand of Fast Retailing, a Japanese clothing design, manufacturing and distribution group. It was founded in 1984 by Tadashi Yanai\n",
    "# It holds the number one position in sales of clothing shops in Japan. \n",
    "# This company has more than 851 shops in Japan and 540 in china.\n",
    "\n",
    "# To answer our question, we will analyse \n",
    "# What kind of channels the clients prefer in different cities;\n",
    "# What kind of channels the clients prefer in different gender;\n",
    "# What knid of channels the clients prefer in different age."
   ]
  },
  {
   "cell_type": "code",
   "execution_count": null,
   "id": "2971524e",
   "metadata": {},
   "outputs": [],
   "source": [
    "import numpy as np\n",
    "import pandas as pd\n",
    "import matplotlib.pyplot as plt\n",
    "import seaborn as sns\n",
    "import scipy as sp\n",
    "%matplotlib inline"
   ]
  },
  {
   "cell_type": "code",
   "execution_count": 243,
   "id": "73a98a82",
   "metadata": {},
   "outputs": [],
   "source": [
    "# Importer the data from the excel on the destop of my computer\n",
    "uniqlo=pd.read_csv(r'C:\\Users\\33636\\Desktop\\ting\\data analyze\\Python data\\zuoyeweek1.uniqlo.csv')"
   ]
  },
  {
   "cell_type": "code",
   "execution_count": 244,
   "id": "52fb2089",
   "metadata": {},
   "outputs": [
    {
     "data": {
      "text/plain": [
       "(22293, 13)"
      ]
     },
     "execution_count": 244,
     "metadata": {},
     "output_type": "execute_result"
    }
   ],
   "source": [
    "# View the total lignes and columns for the database\n",
    "# 22293 ranges et 13 colonnes\n",
    "uniqlo.shape"
   ]
  },
  {
   "cell_type": "code",
   "execution_count": 261,
   "id": "85c84a06",
   "metadata": {},
   "outputs": [
    {
     "data": {
      "text/html": [
       "<div>\n",
       "<style scoped>\n",
       "    .dataframe tbody tr th:only-of-type {\n",
       "        vertical-align: middle;\n",
       "    }\n",
       "\n",
       "    .dataframe tbody tr th {\n",
       "        vertical-align: top;\n",
       "    }\n",
       "\n",
       "    .dataframe thead th {\n",
       "        text-align: right;\n",
       "    }\n",
       "</style>\n",
       "<table border=\"1\" class=\"dataframe\">\n",
       "  <thead>\n",
       "    <tr style=\"text-align: right;\">\n",
       "      <th></th>\n",
       "      <th>store_id</th>\n",
       "      <th>city</th>\n",
       "      <th>channel</th>\n",
       "      <th>gender_group</th>\n",
       "      <th>age_group</th>\n",
       "      <th>wkd_ind</th>\n",
       "      <th>product</th>\n",
       "      <th>customer</th>\n",
       "      <th>revenue</th>\n",
       "      <th>order</th>\n",
       "      <th>quant</th>\n",
       "      <th>unit_cost</th>\n",
       "      <th>unit_price</th>\n",
       "    </tr>\n",
       "  </thead>\n",
       "  <tbody>\n",
       "    <tr>\n",
       "      <th>0</th>\n",
       "      <td>658</td>\n",
       "      <td>shenzhen</td>\n",
       "      <td>offline</td>\n",
       "      <td>Female</td>\n",
       "      <td>25-29</td>\n",
       "      <td>Weekday</td>\n",
       "      <td>News</td>\n",
       "      <td>4</td>\n",
       "      <td>796.0</td>\n",
       "      <td>4</td>\n",
       "      <td>4</td>\n",
       "      <td>59</td>\n",
       "      <td>199</td>\n",
       "    </tr>\n",
       "    <tr>\n",
       "      <th>1</th>\n",
       "      <td>146</td>\n",
       "      <td>hangzhou</td>\n",
       "      <td>offline</td>\n",
       "      <td>Female</td>\n",
       "      <td>25-29</td>\n",
       "      <td>Weekday</td>\n",
       "      <td>Sportswear</td>\n",
       "      <td>1</td>\n",
       "      <td>149.0</td>\n",
       "      <td>1</td>\n",
       "      <td>1</td>\n",
       "      <td>49</td>\n",
       "      <td>149</td>\n",
       "    </tr>\n",
       "    <tr>\n",
       "      <th>2</th>\n",
       "      <td>70</td>\n",
       "      <td>shenzhen</td>\n",
       "      <td>offline</td>\n",
       "      <td>Male</td>\n",
       "      <td>&gt;=60</td>\n",
       "      <td>Weekday</td>\n",
       "      <td>T-shirt</td>\n",
       "      <td>2</td>\n",
       "      <td>178.0</td>\n",
       "      <td>2</td>\n",
       "      <td>2</td>\n",
       "      <td>49</td>\n",
       "      <td>89</td>\n",
       "    </tr>\n",
       "    <tr>\n",
       "      <th>3</th>\n",
       "      <td>658</td>\n",
       "      <td>shenzhen</td>\n",
       "      <td>offline</td>\n",
       "      <td>Female</td>\n",
       "      <td>25-29</td>\n",
       "      <td>Weekday</td>\n",
       "      <td>T-shirt</td>\n",
       "      <td>1</td>\n",
       "      <td>59.0</td>\n",
       "      <td>1</td>\n",
       "      <td>1</td>\n",
       "      <td>49</td>\n",
       "      <td>59</td>\n",
       "    </tr>\n",
       "    <tr>\n",
       "      <th>4</th>\n",
       "      <td>229</td>\n",
       "      <td>shenzhen</td>\n",
       "      <td>offline</td>\n",
       "      <td>Male</td>\n",
       "      <td>20-24</td>\n",
       "      <td>Weekend</td>\n",
       "      <td>Socks</td>\n",
       "      <td>2</td>\n",
       "      <td>65.0</td>\n",
       "      <td>2</td>\n",
       "      <td>3</td>\n",
       "      <td>9</td>\n",
       "      <td>22</td>\n",
       "    </tr>\n",
       "    <tr>\n",
       "      <th>5</th>\n",
       "      <td>28</td>\n",
       "      <td>wuhan</td>\n",
       "      <td>online</td>\n",
       "      <td>Female</td>\n",
       "      <td>35-39</td>\n",
       "      <td>Weekend</td>\n",
       "      <td>T-shirt</td>\n",
       "      <td>1</td>\n",
       "      <td>97.0</td>\n",
       "      <td>1</td>\n",
       "      <td>1</td>\n",
       "      <td>49</td>\n",
       "      <td>97</td>\n",
       "    </tr>\n",
       "    <tr>\n",
       "      <th>6</th>\n",
       "      <td>649</td>\n",
       "      <td>hangzhou</td>\n",
       "      <td>offline</td>\n",
       "      <td>Female</td>\n",
       "      <td>25-29</td>\n",
       "      <td>Weekend</td>\n",
       "      <td>Shorts</td>\n",
       "      <td>1</td>\n",
       "      <td>33.0</td>\n",
       "      <td>1</td>\n",
       "      <td>1</td>\n",
       "      <td>19</td>\n",
       "      <td>33</td>\n",
       "    </tr>\n",
       "    <tr>\n",
       "      <th>7</th>\n",
       "      <td>520</td>\n",
       "      <td>hangzhou</td>\n",
       "      <td>offline</td>\n",
       "      <td>Male</td>\n",
       "      <td>&gt;=60</td>\n",
       "      <td>Weekend</td>\n",
       "      <td>T-shirt</td>\n",
       "      <td>2</td>\n",
       "      <td>158.0</td>\n",
       "      <td>2</td>\n",
       "      <td>2</td>\n",
       "      <td>49</td>\n",
       "      <td>79</td>\n",
       "    </tr>\n",
       "    <tr>\n",
       "      <th>8</th>\n",
       "      <td>649</td>\n",
       "      <td>hangzhou</td>\n",
       "      <td>offline</td>\n",
       "      <td>Female</td>\n",
       "      <td>30-34</td>\n",
       "      <td>Weekend</td>\n",
       "      <td>Jeans</td>\n",
       "      <td>3</td>\n",
       "      <td>157.0</td>\n",
       "      <td>3</td>\n",
       "      <td>3</td>\n",
       "      <td>69</td>\n",
       "      <td>52</td>\n",
       "    </tr>\n",
       "    <tr>\n",
       "      <th>9</th>\n",
       "      <td>21</td>\n",
       "      <td>beijing</td>\n",
       "      <td>offline</td>\n",
       "      <td>Female</td>\n",
       "      <td>45-49</td>\n",
       "      <td>Weekend</td>\n",
       "      <td>Sweater</td>\n",
       "      <td>1</td>\n",
       "      <td>199.0</td>\n",
       "      <td>1</td>\n",
       "      <td>1</td>\n",
       "      <td>99</td>\n",
       "      <td>199</td>\n",
       "    </tr>\n",
       "  </tbody>\n",
       "</table>\n",
       "</div>"
      ],
      "text/plain": [
       "   store_id      city  channel gender_group age_group  wkd_ind     product  \\\n",
       "0       658  shenzhen  offline       Female     25-29  Weekday        News   \n",
       "1       146  hangzhou  offline       Female     25-29  Weekday  Sportswear   \n",
       "2        70  shenzhen  offline         Male      >=60  Weekday     T-shirt   \n",
       "3       658  shenzhen  offline       Female     25-29  Weekday     T-shirt   \n",
       "4       229  shenzhen  offline         Male     20-24  Weekend       Socks   \n",
       "5        28     wuhan   online       Female     35-39  Weekend     T-shirt   \n",
       "6       649  hangzhou  offline       Female     25-29  Weekend      Shorts   \n",
       "7       520  hangzhou  offline         Male      >=60  Weekend     T-shirt   \n",
       "8       649  hangzhou  offline       Female     30-34  Weekend       Jeans   \n",
       "9        21   beijing  offline       Female     45-49  Weekend     Sweater   \n",
       "\n",
       "   customer  revenue  order  quant  unit_cost  unit_price  \n",
       "0         4    796.0      4      4         59         199  \n",
       "1         1    149.0      1      1         49         149  \n",
       "2         2    178.0      2      2         49          89  \n",
       "3         1     59.0      1      1         49          59  \n",
       "4         2     65.0      2      3          9          22  \n",
       "5         1     97.0      1      1         49          97  \n",
       "6         1     33.0      1      1         19          33  \n",
       "7         2    158.0      2      2         49          79  \n",
       "8         3    157.0      3      3         69          52  \n",
       "9         1    199.0      1      1         99         199  "
      ]
     },
     "execution_count": 261,
     "metadata": {},
     "output_type": "execute_result"
    }
   ],
   "source": [
    "# View the colonnes situation of ranges\n",
    "uniqlo.head(10)"
   ]
  },
  {
   "cell_type": "code",
   "execution_count": null,
   "id": "56b73fd0",
   "metadata": {},
   "outputs": [],
   "source": [
    "#As we can see from the table,there are 13 colonnes totally.\n",
    "\n",
    "#The \"store_id\" is the lables from each magazines in China;\n",
    "#the \"customer\" is the quantity of the clients;\n",
    "#the \"revenue\" is the CA of all the clients;par example 4*199=796\n",
    "#the \"order\" is the commandes that the clients order; \n",
    "#the \"quant\" is the exact quantity of products that the clients bought;\n",
    "#the \"unit_cost\" is the prix achat from the fournisseurs;\n",
    "#the \"unit_price\" is the prix vent for the clients"
   ]
  },
  {
   "cell_type": "code",
   "execution_count": 270,
   "id": "37925708",
   "metadata": {},
   "outputs": [
    {
     "data": {
      "text/plain": [
       "<AxesSubplot:xlabel='city', ylabel='revenue'>"
      ]
     },
     "execution_count": 270,
     "metadata": {},
     "output_type": "execute_result"
    },
    {
     "data": {
      "image/png": "[encoded data removed]",
      "text/plain": [
       "<Figure size 720x720 with 1 Axes>"
      ]
     },
     "metadata": {
      "needs_background": "light"
     },
     "output_type": "display_data"
    }
   ],
   "source": [
    "plt.figure(figsize=(10,10))\n",
    "sns.barplot(x='city',y='revenue',hue='channel',data=uniqlo,estimator=sum,order=uniqlo.groupby('city').revenue.sum().sort_values(ascending=False).index)"
   ]
  },
  {
   "cell_type": "code",
   "execution_count": null,
   "id": "00c4e366",
   "metadata": {},
   "outputs": [],
   "source": [
    "# As we can see from the chart,in general,Shenzhen got the most revenue from the offline and Guangzhou got the most revenue from the online.\n",
    "# For some middle cities for example wuhan,chongqin and xian,they got a lot of revenue from clients online;\n",
    "# but for the big compnies such as shenzhen,hangzhou and beijing, they do not have the data for online;\n",
    "# It is not normal that there is no data for online in big cities,whose e-commerce developed so well;\n",
    "# If the data is right,we have to give some advice for Shenzhen and Beijing that compared to other cities,they have to develop the e-commerce."
   ]
  },
  {
   "cell_type": "code",
   "execution_count": 269,
   "id": "565b7c48",
   "metadata": {},
   "outputs": [
    {
     "data": {
      "text/plain": [
       "<AxesSubplot:xlabel='gender_group', ylabel='revenue'>"
      ]
     },
     "execution_count": 269,
     "metadata": {},
     "output_type": "execute_result"
    },
    {
     "data": {
      "image/png": "[encoded data removed]",
      "text/plain": [
       "<Figure size 432x288 with 1 Axes>"
      ]
     },
     "metadata": {
      "needs_background": "light"
     },
     "output_type": "display_data"
    }
   ],
   "source": [
    "sns.barplot(x='gender_group',y='revenue',hue='channel',data=uniqlo,estimator=sum,order=uniqlo.groupby('gender_group').revenue.sum().sort_values(ascending=False).index)"
   ]
  },
  {
   "cell_type": "code",
   "execution_count": null,
   "id": "23231d05",
   "metadata": {},
   "outputs": [],
   "source": [
    "# In this table, we see that in the 10 cities where UNIQLO shops are located, \n",
    "# There is a high number of offline orders for women's clothing with a revenue of more than 22293 yuan( 2.0)\n",
    "# against only less than 10000 yuan(0.8) for men of all ages. \n",
    "# In terms of online orders, sales are down with - 5000 yuan( 0.4) orders for women and - 2000 yuan(0.2) for men of all ages."
   ]
  },
  {
   "cell_type": "code",
   "execution_count": 273,
   "id": "0453b2a0",
   "metadata": {},
   "outputs": [
    {
     "data": {
      "text/plain": [
       "<AxesSubplot:xlabel='age_group', ylabel='revenue'>"
      ]
     },
     "execution_count": 273,
     "metadata": {},
     "output_type": "execute_result"
    },
    {
     "data": {
      "image/png": "[encoded data removed]",
      "text/plain": [
       "<Figure size 720x720 with 1 Axes>"
      ]
     },
     "metadata": {
      "needs_background": "light"
     },
     "output_type": "display_data"
    }
   ],
   "source": [
    "plt.figure(figsize=(10,10))\n",
    "sns.barplot(x='age_group',y='revenue',hue='channel',data=uniqlo,estimator=sum,order=uniqlo.groupby('age_group').revenue.sum().sort_values(ascending=False).index)"
   ]
  },
  {
   "cell_type": "code",
   "execution_count": null,
   "id": "ecad4c52",
   "metadata": {},
   "outputs": [],
   "source": [
    "# This table is a visualization of all the sales of men's and women's clothing offline and online,\n",
    "# aged between 25 and 59 years old in the 10 cities where the UNIQLO shop is located. \n",
    "# We can see that the total revenue of offline sales of men and women's clothing aged between 25 and 34 are high at + 600,000 yuan. \n",
    "# The chain of offline sales decreases as the income is 490000 yuan for people aged between 35- 39 \n",
    "# and 450000 yuan for people aged between 20 and 24.\n",
    "# Then there is a decrease in income from 200,000 to 0 for people aged 40-60"
   ]
  },
  {
   "cell_type": "code",
   "execution_count": null,
   "id": "d6a8b44c",
   "metadata": {},
   "outputs": [],
   "source": [
    "# In conclusion, \n",
    "# For most cities,the clients prefer go shoopping on the UNIQLO stores instead of online shopping.On the one hand,maybe the clients \n",
    "# prefer the service of UNIQLO offline,on the other hand,UNIQLO does not put more attention to the business online or e-commerce.\n",
    "# For the gender, we can see that no matter the offline or online, the products of UNIQLO is more popular among wonmen than men.\n",
    "# For the age,we can see that UNIQLO is more famous in young people 25-29  no matter offline or online.\n",
    "\n",
    "# For the future\n",
    "# We can use k-means to predict the range of age of the clients of UNIQLO in the future\n",
    "# It is useful for us to use k-means to predict the revenue of differents cities in the future"
   ]
  }
 ],
 "metadata": {
  "kernelspec": {
   "display_name": "Python 3",
   "language": "python",
   "name": "python3"
  },
  "language_info": {
   "codemirror_mode": {
    "name": "ipython",
    "version": 3
   },
   "file_extension": ".py",
   "mimetype": "text/x-python",
   "name": "python",
   "nbconvert_exporter": "python",
   "pygments_lexer": "ipython3",
   "version": "3.8.8"
  }
 },
 "nbformat": 4,
 "nbformat_minor": 5
}
